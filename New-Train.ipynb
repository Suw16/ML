{
 "cells": [
  {
   "cell_type": "code",
   "execution_count": 1,
   "metadata": {},
   "outputs": [],
   "source": [
    "import numpy as np\n",
    "import tensorflow as tf\n",
    "from utils import *\n",
    "from tensorflow.contrib import learn\n",
    "from tensorflow.contrib import layers\n",
    "from tensorflow.contrib.learn import *\n",
    "from tensorflow.contrib.learn.python.learn.estimators import model_fn as model_fn_lib\n",
    "\n",
    "tf.logging.set_verbosity(tf.logging.INFO)"
   ]
  },
  {
   "cell_type": "markdown",
   "metadata": {},
   "source": [
    "## Input function for training\n",
    "\n",
    "- Get image data from the given directory \n",
    "- Put the data into TensorFlow Queue\n",
    "- Return (features, label)\n",
    "    - features: a Tensor with shape (batch_size, height, width, channels) \n",
    "    - label: a Tensor with shape (batch_size)"
   ]
  },
  {
   "cell_type": "code",
   "execution_count": 2,
   "metadata": {},
   "outputs": [],
   "source": [
    "train_input_fn = read_img(data_dir='data/train', batch_size=32, shuffle=True)"
   ]
  },
  {
   "cell_type": "code",
   "execution_count": 3,
   "metadata": {},
   "outputs": [
    {
     "data": {
      "text/plain": [
       "(<tf.Tensor 'features:0' shape=(?, 256, 256, 3) dtype=uint8>,\n",
       " <tf.Tensor 'label:0' shape=(?,) dtype=int32>)"
      ]
     },
     "execution_count": 3,
     "metadata": {},
     "output_type": "execute_result"
    }
   ],
   "source": [
    "train_input_fn()"
   ]
  },
  {
   "cell_type": "markdown",
   "metadata": {},
   "source": [
    "### Define CNN model function"
   ]
  },
  {
   "cell_type": "code",
   "execution_count": 4,
   "metadata": {},
   "outputs": [],
   "source": [
    "def cnn_model_fn(features, labels, mode, params):\n",
    "    \"\"\"\n",
    "    Model function for CNN\n",
    "    :param features: images features with shape (batch_size, height, width, channels)\n",
    "    :param labels: images category with shape (batch_size)\n",
    "    :param mode: Specifies if this training, evaluation or\n",
    "                 prediction. See `model_fn_lib.ModeKey`\n",
    "    :param params: dict of hyperparameters\n",
    "    :return: predictions, loss, train_op, Optional(eval_op). See `model_fn_lib.ModelFnOps`\n",
    "    \"\"\"\n",
    "    \n",
    "    # Convolutional Layer #1\n",
    "    conv1 = tf.layers.conv2d(\n",
    "        inputs=features,\n",
    "        filters=32,\n",
    "        kernel_size=[3, 3],\n",
    "        padding=\"same\",\n",
    "        activation=tf.nn.relu)\n",
    "\n",
    "    # Pooling Layer #1\n",
    "    pool1 = tf.layers.max_pooling2d(inputs=conv1, pool_size=[2, 2], strides=2)\n",
    "    \n",
    "    # Convolutional Layer #2 and Pooling Layer #2\n",
    "    conv2 = tf.layers.conv2d(\n",
    "        inputs=pool1,\n",
    "        filters=64,\n",
    "        kernel_size=[3, 3],\n",
    "        padding=\"same\",\n",
    "        activation=tf.nn.relu)\n",
    "    pool2 = tf.layers.max_pooling2d(inputs=conv2, pool_size=[2, 2], strides=2)\n",
    "\n",
    "    # Convolutional Layer #3 and Pooling Layer #3\n",
    "    conv3 = tf.layers.conv2d(\n",
    "        inputs=pool2,\n",
    "        filters=64,\n",
    "        kernel_size=[3, 3],\n",
    "        padding=\"same\",\n",
    "        activation=tf.nn.relu)\n",
    "    pool3 = tf.layers.max_pooling2d(inputs=conv3, pool_size=[2, 2], strides=2)\n",
    "    \n",
    "    # Dense Layer\n",
    "    pool_flat = tf.reshape(pool3, [-1, 32 * 32 * 64])\n",
    "    dense = tf.layers.dense(inputs=pool_flat, units=512, activation=tf.nn.relu)\n",
    "    dropout = tf.layers.dropout(inputs=dense, rate=params['drop_out_rate']\n",
    "                                , training=mode == learn.ModeKeys.TRAIN)\n",
    "    \n",
    "    # Logits Layer, a final layer before applying softmax\n",
    "    logits = tf.layers.dense(inputs=dropout, units=18)\n",
    "    \n",
    "    loss = None\n",
    "    train_op = None\n",
    "    \n",
    "    # Calculate Loss (for both TRAIN and EVAL modes)\n",
    "    if mode != learn.ModeKeys.INFER:\n",
    "        onehot_labels = tf.one_hot(indices=tf.cast(labels, tf.int32), depth=18, name=\"onehot\")\n",
    "        #cross entropy loss\n",
    "        loss = tf.losses.softmax_cross_entropy(\n",
    "            onehot_labels=onehot_labels, logits=logits)\n",
    "        \n",
    "    # Configure the Training Op (for TRAIN mode)\n",
    "    if mode == learn.ModeKeys.TRAIN:\n",
    "        train_op = tf.contrib.layers.optimize_loss(\n",
    "            loss=loss,\n",
    "            global_step=tf.contrib.framework.get_global_step(),\n",
    "            optimizer=tf.train.AdamOptimizer,\n",
    "            learning_rate=params['learning_rate'],\n",
    "            summaries=[\n",
    "                \"learning_rate\",\n",
    "                \"loss\",\n",
    "                \"gradients\",\n",
    "                \"gradient_norm\",\n",
    "            ])\n",
    "    \n",
    "    # Generate Predictions\n",
    "    predictions = {\n",
    "        \"classes\": tf.argmax(\n",
    "            input=logits, axis=1),\n",
    "        \"probabilities\": tf.nn.softmax(\n",
    "            logits, name=\"softmax_tensor\")\n",
    "    }\n",
    "    \n",
    "    # Return a ModelFnOps object\n",
    "    return model_fn_lib.ModelFnOps(mode=mode, \n",
    "                                   predictions=predictions, \n",
    "                                   loss=loss, \n",
    "                                   train_op=train_op,\n",
    "                                   eval_metric_ops={'dense': dense})"
   ]
  },
  {
   "cell_type": "markdown",
   "metadata": {},
   "source": [
    "### Define Data Preprocessing"
   ]
  },
  {
   "cell_type": "code",
   "execution_count": 5,
   "metadata": {},
   "outputs": [],
   "source": [
    "def feature_engineering_fn(features, labels):\n",
    "    \"\"\"\n",
    "    feature_engineering_fn: Feature engineering function. Takes features and\n",
    "                              labels which are the output of `input_fn` and\n",
    "                              returns features and labels which will be fed\n",
    "                              into `model_fn`\n",
    "    \"\"\"\n",
    "    \n",
    "    features = tf.to_float(features)\n",
    "    \n",
    "    # Preprocessing or Data Augmentation\n",
    "    # tf.image implements most of the standard image augmentation\n",
    "\n",
    "    # Example\n",
    "    # Subtract off the mean and divide by the variance of the pixels.\n",
    "    features = tf.map_fn(tf.image.per_image_standardization, features)\n",
    "    \n",
    "    return features, labels"
   ]
  },
  {
   "cell_type": "markdown",
   "metadata": {},
   "source": [
    "### Instantiate an Estimator"
   ]
  },
  {
   "cell_type": "code",
   "execution_count": 6,
   "metadata": {},
   "outputs": [
    {
     "name": "stdout",
     "output_type": "stream",
     "text": [
      "WARNING:tensorflow:From <ipython-input-6-cf9b32d12075>:1: RunConfig.__init__ (from tensorflow.contrib.learn.python.learn.estimators.run_config) is deprecated and will be removed in a future version.\n",
      "Instructions for updating:\n",
      "When switching to tf.estimator.Estimator, use tf.estimator.RunConfig instead.\n",
      "WARNING:tensorflow:From c:\\users\\administrator\\appdata\\local\\programs\\python\\python36\\lib\\site-packages\\tensorflow\\contrib\\learn\\python\\learn\\estimators\\estimator.py:1179: BaseEstimator.__init__ (from tensorflow.contrib.learn.python.learn.estimators.estimator) is deprecated and will be removed in a future version.\n",
      "Instructions for updating:\n",
      "Please replace uses of any Estimator from tf.contrib.learn with an Estimator from tf.estimator.*\n",
      "INFO:tensorflow:Using config: {'_task_type': None, '_task_id': 0, '_cluster_spec': <tensorflow.python.training.server_lib.ClusterSpec object at 0x00000281E8BAB9E8>, '_master': '', '_num_ps_replicas': 0, '_num_worker_replicas': 0, '_environment': 'local', '_is_chief': True, '_evaluation_master': '', '_train_distribute': None, '_device_fn': None, '_tf_config': gpu_options {\n",
      "  per_process_gpu_memory_fraction: 1.0\n",
      "}\n",
      ", '_tf_random_seed': None, '_save_summary_steps': 10, '_save_checkpoints_secs': 30, '_log_step_count_steps': 100, '_session_config': None, '_save_checkpoints_steps': None, '_keep_checkpoint_max': 2, '_keep_checkpoint_every_n_hours': 10000, '_model_dir': '_model/plain_cnn'}\n"
     ]
    }
   ],
   "source": [
    "run_config = RunConfig(save_summary_steps=10, keep_checkpoint_max=2, save_checkpoints_secs=30)\n",
    "#drop_out_rate = 0.2, learning_rate = 0.0001\n",
    "params = {'drop_out_rate': 0.2, 'learning_rate': 0.0001}\n",
    "#use \"model/plain_cnn\" as model_dir\n",
    "cnn_classifier = learn.Estimator(model_fn=cnn_model_fn, model_dir=\"_model/plain_cnn\",\n",
    "        config=run_config,\n",
    "        feature_engineering_fn=feature_engineering_fn, params=params)"
   ]
  },
  {
   "cell_type": "code",
   "execution_count": 7,
   "metadata": {},
   "outputs": [
    {
     "name": "stdout",
     "output_type": "stream",
     "text": [
      "WARNING:tensorflow:From <ipython-input-7-153bbe26a921>:5: MetricSpec.__init__ (from tensorflow.contrib.learn.python.learn.metric_spec) is deprecated and will be removed in a future version.\n",
      "Instructions for updating:\n",
      "Use tf.estimator.EstimatorSpec.eval_metric_ops.\n"
     ]
    }
   ],
   "source": [
    "# Configure the accuracy metric for evaluation\n",
    "metrics = {\n",
    "    \"accuracy\":\n",
    "        learn.MetricSpec(\n",
    "            metric_fn=tf.metrics.accuracy, prediction_key=\"classes\")\n",
    "}"
   ]
  },
  {
   "cell_type": "markdown",
   "metadata": {},
   "source": [
    "### Define input function for validation monitor and Instantiate a Validation Monitor"
   ]
  },
  {
   "cell_type": "code",
   "execution_count": 8,
   "metadata": {},
   "outputs": [
    {
     "name": "stdout",
     "output_type": "stream",
     "text": [
      "WARNING:tensorflow:From c:\\users\\administrator\\appdata\\local\\programs\\python\\python36\\lib\\site-packages\\tensorflow\\contrib\\learn\\python\\learn\\monitors.py:279: BaseMonitor.__init__ (from tensorflow.contrib.learn.python.learn.monitors) is deprecated and will be removed after 2016-12-05.\n",
      "Instructions for updating:\n",
      "Monitors are deprecated. Please use tf.train.SessionRunHook.\n"
     ]
    }
   ],
   "source": [
    "#validation data is in 'data/validate' folder, batch size = 128\n",
    "validate_input_fn = read_img(data_dir='data/validate', batch_size=128, shuffle=True)\n",
    "validation_monitor = monitors.ValidationMonitor(input_fn=validate_input_fn,\n",
    "                                                eval_steps=10,\n",
    "                                                every_n_steps=50,\n",
    "                                                metrics=metrics,\n",
    "                                                name='validation')"
   ]
  },
  {
   "cell_type": "markdown",
   "metadata": {},
   "source": [
    "### Start training the model"
   ]
  },
  {
   "cell_type": "code",
   "execution_count": 9,
   "metadata": {
    "scrolled": false
   },
   "outputs": [
    {
     "name": "stdout",
     "output_type": "stream",
     "text": [
      "WARNING:tensorflow:From <ipython-input-4-ddb4e10a96cb>:64: get_global_step (from tensorflow.contrib.framework.python.ops.variables) is deprecated and will be removed in a future version.\n",
      "Instructions for updating:\n",
      "Please switch to tf.train.get_global_step\n",
      "WARNING:tensorflow:From <ipython-input-4-ddb4e10a96cb>:87: ModelFnOps.__new__ (from tensorflow.contrib.learn.python.learn.estimators.model_fn) is deprecated and will be removed in a future version.\n",
      "Instructions for updating:\n",
      "When switching to tf.estimator.Estimator, use tf.estimator.EstimatorSpec. You can use the `estimator_spec` method to create an equivalent one.\n",
      "INFO:tensorflow:Create CheckpointSaverHook.\n",
      "INFO:tensorflow:Graph was finalized.\n",
      "INFO:tensorflow:Restoring parameters from _model/plain_cnn\\model.ckpt-600\n",
      "INFO:tensorflow:Running local_init_op.\n",
      "INFO:tensorflow:Done running local_init_op.\n",
      "INFO:tensorflow:Saving checkpoints for 600 into _model/plain_cnn\\model.ckpt.\n",
      "INFO:tensorflow:Starting evaluation at 2018-08-31-08:05:35\n",
      "INFO:tensorflow:Graph was finalized.\n",
      "INFO:tensorflow:Restoring parameters from _model/plain_cnn\\model.ckpt-600\n",
      "INFO:tensorflow:Running local_init_op.\n",
      "INFO:tensorflow:Done running local_init_op.\n",
      "INFO:tensorflow:Evaluation [1/10]\n",
      "INFO:tensorflow:Evaluation [2/10]\n",
      "INFO:tensorflow:Evaluation [3/10]\n",
      "INFO:tensorflow:Evaluation [4/10]\n",
      "INFO:tensorflow:Evaluation [5/10]\n",
      "INFO:tensorflow:Evaluation [6/10]\n",
      "INFO:tensorflow:Evaluation [7/10]\n",
      "INFO:tensorflow:Evaluation [8/10]\n",
      "INFO:tensorflow:Evaluation [9/10]\n",
      "INFO:tensorflow:Evaluation [10/10]\n",
      "INFO:tensorflow:Finished evaluation at 2018-08-31-08:06:31\n",
      "INFO:tensorflow:Saving dict for global step 600: accuracy = 0.4109375, Type of dense = <class 'numpy.ndarray'>, global_step = 600, loss = 3.151916\n",
      "INFO:tensorflow:Summary for np.ndarray is not visible in Tensorboard by default. Consider using a Tensorboard plugin for visualization (see https://github.com/tensorflow/tensorboard-plugin-example/blob/master/README.md for more information).\n",
      "INFO:tensorflow:Validation (step 601): dense = [[0.         0.         3.861416   ... 0.         1.2215064  0.41089782]\n",
      " [0.         0.         2.0801604  ... 2.3848305  5.4031444  0.        ]\n",
      " [0.         0.         0.7507583  ... 2.7427738  0.         1.6420453 ]\n",
      " ...\n",
      " [0.         0.         2.0715635  ... 3.5519702  5.5381956  1.4711952 ]\n",
      " [0.         0.         1.1973872  ... 0.40100637 0.         3.4577353 ]\n",
      " [0.         0.         0.97989506 ... 1.3969936  0.99985003 2.5307739 ]], accuracy = 0.4109375, loss = 3.151916, global_step = 600\n",
      "INFO:tensorflow:loss = 0.0020782624, step = 601\n",
      "INFO:tensorflow:Saving checkpoints for 602 into _model/plain_cnn\\model.ckpt.\n",
      "INFO:tensorflow:Saving checkpoints for 610 into _model/plain_cnn\\model.ckpt.\n",
      "INFO:tensorflow:Saving checkpoints for 618 into _model/plain_cnn\\model.ckpt.\n",
      "INFO:tensorflow:Saving checkpoints for 626 into _model/plain_cnn\\model.ckpt.\n",
      "INFO:tensorflow:Saving checkpoints for 632 into _model/plain_cnn\\model.ckpt.\n",
      "INFO:tensorflow:Saving checkpoints for 641 into _model/plain_cnn\\model.ckpt.\n",
      "INFO:tensorflow:Saving checkpoints for 650 into _model/plain_cnn\\model.ckpt.\n",
      "INFO:tensorflow:Starting evaluation at 2018-08-31-08:09:51\n",
      "INFO:tensorflow:Graph was finalized.\n",
      "INFO:tensorflow:Restoring parameters from _model/plain_cnn\\model.ckpt-650\n",
      "INFO:tensorflow:Running local_init_op.\n",
      "INFO:tensorflow:Done running local_init_op.\n",
      "INFO:tensorflow:Evaluation [1/10]\n",
      "INFO:tensorflow:Evaluation [2/10]\n",
      "INFO:tensorflow:Evaluation [3/10]\n",
      "INFO:tensorflow:Evaluation [4/10]\n",
      "INFO:tensorflow:Evaluation [5/10]\n",
      "INFO:tensorflow:Evaluation [6/10]\n",
      "INFO:tensorflow:Evaluation [7/10]\n",
      "INFO:tensorflow:Evaluation [8/10]\n",
      "INFO:tensorflow:Evaluation [9/10]\n",
      "INFO:tensorflow:Evaluation [10/10]\n",
      "INFO:tensorflow:Finished evaluation at 2018-08-31-08:10:49\n",
      "INFO:tensorflow:Saving dict for global step 650: accuracy = 0.3859375, Type of dense = <class 'numpy.ndarray'>, global_step = 650, loss = 3.0961187\n",
      "INFO:tensorflow:Summary for np.ndarray is not visible in Tensorboard by default. Consider using a Tensorboard plugin for visualization (see https://github.com/tensorflow/tensorboard-plugin-example/blob/master/README.md for more information).\n",
      "INFO:tensorflow:Validation (step 651): dense = [[0.         0.         0.1980207  ... 2.7389498  2.2938163  1.8993777 ]\n",
      " [0.         0.         1.703158   ... 2.2524004  4.3212314  0.        ]\n",
      " [0.         0.         0.         ... 1.7487624  0.09928096 1.0148668 ]\n",
      " ...\n",
      " [0.         0.         2.7908096  ... 0.         0.334793   1.0427355 ]\n",
      " [0.         0.         2.6256547  ... 0.7621709  5.0106983  1.4474423 ]\n",
      " [0.         0.         0.12117454 ... 2.2124531  0.         2.4310062 ]], accuracy = 0.3859375, loss = 3.0961187, global_step = 650\n",
      "INFO:tensorflow:Saving checkpoints for 652 into _model/plain_cnn\\model.ckpt.\n",
      "INFO:tensorflow:Saving checkpoints for 661 into _model/plain_cnn\\model.ckpt.\n",
      "INFO:tensorflow:Saving checkpoints for 670 into _model/plain_cnn\\model.ckpt.\n",
      "INFO:tensorflow:Saving checkpoints for 678 into _model/plain_cnn\\model.ckpt.\n",
      "INFO:tensorflow:Saving checkpoints for 687 into _model/plain_cnn\\model.ckpt.\n",
      "INFO:tensorflow:Saving checkpoints for 696 into _model/plain_cnn\\model.ckpt.\n",
      "INFO:tensorflow:global_step/sec: 0.199492\n",
      "INFO:tensorflow:Starting evaluation at 2018-08-31-08:13:56\n",
      "INFO:tensorflow:Graph was finalized.\n",
      "INFO:tensorflow:Restoring parameters from _model/plain_cnn\\model.ckpt-696\n",
      "INFO:tensorflow:Running local_init_op.\n",
      "INFO:tensorflow:Done running local_init_op.\n",
      "INFO:tensorflow:Evaluation [1/10]\n",
      "INFO:tensorflow:Evaluation [2/10]\n",
      "INFO:tensorflow:Evaluation [3/10]\n",
      "INFO:tensorflow:Evaluation [4/10]\n",
      "INFO:tensorflow:Evaluation [5/10]\n",
      "INFO:tensorflow:Evaluation [6/10]\n",
      "INFO:tensorflow:Evaluation [7/10]\n",
      "INFO:tensorflow:Evaluation [8/10]\n",
      "INFO:tensorflow:Evaluation [9/10]\n",
      "INFO:tensorflow:Evaluation [10/10]\n",
      "INFO:tensorflow:Finished evaluation at 2018-08-31-08:14:55\n",
      "INFO:tensorflow:Saving dict for global step 696: accuracy = 0.3921875, Type of dense = <class 'numpy.ndarray'>, global_step = 696, loss = 3.2811093\n",
      "INFO:tensorflow:Summary for np.ndarray is not visible in Tensorboard by default. Consider using a Tensorboard plugin for visualization (see https://github.com/tensorflow/tensorboard-plugin-example/blob/master/README.md for more information).\n",
      "INFO:tensorflow:Validation (step 701): dense = [[0.         0.         0.7662118  ... 1.2972828  1.9720753  2.8339841 ]\n",
      " [0.         0.         1.7253773  ... 0.         4.6856346  0.        ]\n",
      " [0.         0.         0.19295023 ... 2.7015538  0.11877612 1.7030113 ]\n",
      " ...\n",
      " [0.         0.         0.         ... 0.59103376 0.         3.7412827 ]\n",
      " [0.         0.         0.         ... 0.7470887  0.6931692  1.3591324 ]\n",
      " [0.         0.         0.         ... 0.         2.8713775  1.7674646 ]], accuracy = 0.3921875, loss = 3.2811093, global_step = 696\n",
      "INFO:tensorflow:loss = 0.0049863737, step = 701 (503.968 sec)\n",
      "INFO:tensorflow:Saving checkpoints for 702 into _model/plain_cnn\\model.ckpt.\n",
      "INFO:tensorflow:Saving checkpoints for 711 into _model/plain_cnn\\model.ckpt.\n",
      "INFO:tensorflow:Saving checkpoints for 719 into _model/plain_cnn\\model.ckpt.\n",
      "INFO:tensorflow:Saving checkpoints for 728 into _model/plain_cnn\\model.ckpt.\n",
      "INFO:tensorflow:Saving checkpoints for 736 into _model/plain_cnn\\model.ckpt.\n",
      "INFO:tensorflow:Saving checkpoints for 744 into _model/plain_cnn\\model.ckpt.\n",
      "INFO:tensorflow:Starting evaluation at 2018-08-31-08:18:09\n",
      "INFO:tensorflow:Graph was finalized.\n",
      "INFO:tensorflow:Restoring parameters from _model/plain_cnn\\model.ckpt-744\n",
      "INFO:tensorflow:Running local_init_op.\n",
      "INFO:tensorflow:Done running local_init_op.\n",
      "INFO:tensorflow:Evaluation [1/10]\n",
      "INFO:tensorflow:Evaluation [2/10]\n",
      "INFO:tensorflow:Evaluation [3/10]\n",
      "INFO:tensorflow:Evaluation [4/10]\n",
      "INFO:tensorflow:Evaluation [5/10]\n",
      "INFO:tensorflow:Evaluation [6/10]\n",
      "INFO:tensorflow:Evaluation [7/10]\n",
      "INFO:tensorflow:Evaluation [8/10]\n",
      "INFO:tensorflow:Evaluation [9/10]\n",
      "INFO:tensorflow:Evaluation [10/10]\n",
      "INFO:tensorflow:Finished evaluation at 2018-08-31-08:19:08\n",
      "INFO:tensorflow:Saving dict for global step 744: accuracy = 0.409375, Type of dense = <class 'numpy.ndarray'>, global_step = 744, loss = 3.4315102\n",
      "INFO:tensorflow:Summary for np.ndarray is not visible in Tensorboard by default. Consider using a Tensorboard plugin for visualization (see https://github.com/tensorflow/tensorboard-plugin-example/blob/master/README.md for more information).\n"
     ]
    },
    {
     "name": "stdout",
     "output_type": "stream",
     "text": [
      "INFO:tensorflow:Validation (step 751): dense = [[0.         0.         1.7114595  ... 0.         0.         4.2689147 ]\n",
      " [0.         0.         0.81933093 ... 0.2683875  0.         4.5884705 ]\n",
      " [0.         0.         1.9417418  ... 1.6288838  3.2059681  0.4729199 ]\n",
      " ...\n",
      " [0.         0.         0.         ... 1.6709924  0.09958513 3.5090015 ]\n",
      " [0.         0.         0.7356712  ... 0.         1.4500647  1.509591  ]\n",
      " [0.         0.         2.1313093  ... 0.         0.         1.7276698 ]], accuracy = 0.409375, loss = 3.4315102, global_step = 744\n",
      "INFO:tensorflow:Saving checkpoints for 752 into _model/plain_cnn\\model.ckpt.\n",
      "INFO:tensorflow:Saving checkpoints for 761 into _model/plain_cnn\\model.ckpt.\n",
      "INFO:tensorflow:Saving checkpoints for 770 into _model/plain_cnn\\model.ckpt.\n",
      "INFO:tensorflow:Saving checkpoints for 779 into _model/plain_cnn\\model.ckpt.\n",
      "INFO:tensorflow:Saving checkpoints for 788 into _model/plain_cnn\\model.ckpt.\n",
      "INFO:tensorflow:Saving checkpoints for 797 into _model/plain_cnn\\model.ckpt.\n",
      "INFO:tensorflow:global_step/sec: 0.200955\n",
      "INFO:tensorflow:Starting evaluation at 2018-08-31-08:22:14\n",
      "INFO:tensorflow:Graph was finalized.\n",
      "INFO:tensorflow:Restoring parameters from _model/plain_cnn\\model.ckpt-797\n",
      "INFO:tensorflow:Running local_init_op.\n",
      "INFO:tensorflow:Done running local_init_op.\n",
      "INFO:tensorflow:Evaluation [1/10]\n",
      "INFO:tensorflow:Evaluation [2/10]\n",
      "INFO:tensorflow:Evaluation [3/10]\n",
      "INFO:tensorflow:Evaluation [4/10]\n",
      "INFO:tensorflow:Evaluation [5/10]\n",
      "INFO:tensorflow:Evaluation [6/10]\n",
      "INFO:tensorflow:Evaluation [7/10]\n",
      "INFO:tensorflow:Evaluation [8/10]\n",
      "INFO:tensorflow:Evaluation [9/10]\n",
      "INFO:tensorflow:Evaluation [10/10]\n",
      "INFO:tensorflow:Finished evaluation at 2018-08-31-08:23:12\n",
      "INFO:tensorflow:Saving dict for global step 797: accuracy = 0.3859375, Type of dense = <class 'numpy.ndarray'>, global_step = 797, loss = 3.4209847\n",
      "INFO:tensorflow:Summary for np.ndarray is not visible in Tensorboard by default. Consider using a Tensorboard plugin for visualization (see https://github.com/tensorflow/tensorboard-plugin-example/blob/master/README.md for more information).\n",
      "INFO:tensorflow:Validation (step 801): dense = [[0.         0.         0.         ... 1.0703379  4.9072323  0.61287373]\n",
      " [0.         0.         4.5920234  ... 0.         0.17296362 3.8674421 ]\n",
      " [0.         0.         3.474551   ... 2.8212128  9.10965    0.        ]\n",
      " ...\n",
      " [0.         0.         0.52629197 ... 0.45384806 3.3193355  0.        ]\n",
      " [0.         0.         5.321137   ... 0.25937027 4.555122   1.7244674 ]\n",
      " [0.         0.         3.3067753  ... 0.         0.         5.18454   ]], accuracy = 0.3859375, loss = 3.4209847, global_step = 797\n",
      "INFO:tensorflow:loss = 0.0014273975, step = 801 (497.797 sec)\n",
      "INFO:tensorflow:Saving checkpoints for 802 into _model/plain_cnn\\model.ckpt.\n",
      "INFO:tensorflow:Saving checkpoints for 811 into _model/plain_cnn\\model.ckpt.\n",
      "INFO:tensorflow:Saving checkpoints for 820 into _model/plain_cnn\\model.ckpt.\n",
      "INFO:tensorflow:Saving checkpoints for 828 into _model/plain_cnn\\model.ckpt.\n",
      "INFO:tensorflow:Saving checkpoints for 837 into _model/plain_cnn\\model.ckpt.\n",
      "INFO:tensorflow:Saving checkpoints for 846 into _model/plain_cnn\\model.ckpt.\n",
      "INFO:tensorflow:Starting evaluation at 2018-08-31-08:26:19\n",
      "INFO:tensorflow:Graph was finalized.\n",
      "INFO:tensorflow:Restoring parameters from _model/plain_cnn\\model.ckpt-846\n",
      "INFO:tensorflow:Running local_init_op.\n",
      "INFO:tensorflow:Done running local_init_op.\n",
      "INFO:tensorflow:Evaluation [1/10]\n",
      "INFO:tensorflow:Evaluation [2/10]\n",
      "INFO:tensorflow:Evaluation [3/10]\n",
      "INFO:tensorflow:Evaluation [4/10]\n",
      "INFO:tensorflow:Evaluation [5/10]\n",
      "INFO:tensorflow:Evaluation [6/10]\n",
      "INFO:tensorflow:Evaluation [7/10]\n",
      "INFO:tensorflow:Evaluation [8/10]\n",
      "INFO:tensorflow:Evaluation [9/10]\n",
      "INFO:tensorflow:Evaluation [10/10]\n",
      "INFO:tensorflow:Finished evaluation at 2018-08-31-08:27:18\n",
      "INFO:tensorflow:Saving dict for global step 846: accuracy = 0.3984375, Type of dense = <class 'numpy.ndarray'>, global_step = 846, loss = 3.40559\n",
      "INFO:tensorflow:Summary for np.ndarray is not visible in Tensorboard by default. Consider using a Tensorboard plugin for visualization (see https://github.com/tensorflow/tensorboard-plugin-example/blob/master/README.md for more information).\n",
      "INFO:tensorflow:Validation (step 851): dense = [[0.         0.         5.2416215  ... 0.7871443  4.3482566  1.8577588 ]\n",
      " [0.         0.         3.9651675  ... 0.29742512 2.9440591  2.070108  ]\n",
      " [0.         0.         3.4332108  ... 3.3004286  9.045651   0.        ]\n",
      " ...\n",
      " [0.         0.         1.7834367  ... 0.         4.4509387  0.        ]\n",
      " [0.         0.         0.         ... 2.2057629  2.7923224  2.1306274 ]\n",
      " [0.         0.         0.40632215 ... 0.04577586 2.20624    0.7269551 ]], accuracy = 0.3984375, loss = 3.40559, global_step = 846\n",
      "INFO:tensorflow:Saving checkpoints for 852 into _model/plain_cnn\\model.ckpt.\n",
      "INFO:tensorflow:Saving checkpoints for 861 into _model/plain_cnn\\model.ckpt.\n",
      "INFO:tensorflow:Saving checkpoints for 870 into _model/plain_cnn\\model.ckpt.\n",
      "INFO:tensorflow:Saving checkpoints for 879 into _model/plain_cnn\\model.ckpt.\n",
      "INFO:tensorflow:Saving checkpoints for 888 into _model/plain_cnn\\model.ckpt.\n",
      "INFO:tensorflow:Saving checkpoints for 897 into _model/plain_cnn\\model.ckpt.\n",
      "INFO:tensorflow:Saving checkpoints for 900 into _model/plain_cnn\\model.ckpt.\n",
      "INFO:tensorflow:Loss for final step: 0.0027416204.\n"
     ]
    },
    {
     "data": {
      "text/plain": [
       "Estimator(params={'drop_out_rate': 0.2, 'learning_rate': 0.0001})"
      ]
     },
     "execution_count": 9,
     "metadata": {},
     "output_type": "execute_result"
    }
   ],
   "source": [
    "#use validation monitor defined above to evaluate model every 50 steps\n",
    "cnn_classifier.fit(input_fn=train_input_fn, steps=300, monitors=[validation_monitor])"
   ]
  },
  {
   "cell_type": "markdown",
   "metadata": {},
   "source": [
    "### Final evaluation on unseen test data set"
   ]
  },
  {
   "cell_type": "code",
   "execution_count": 10,
   "metadata": {
    "scrolled": false
   },
   "outputs": [
    {
     "name": "stdout",
     "output_type": "stream",
     "text": [
      "INFO:tensorflow:Starting evaluation at 2018-08-31-08:30:24\n",
      "INFO:tensorflow:Graph was finalized.\n",
      "INFO:tensorflow:Restoring parameters from _model/plain_cnn\\model.ckpt-900\n",
      "INFO:tensorflow:Running local_init_op.\n",
      "INFO:tensorflow:Done running local_init_op.\n",
      "INFO:tensorflow:Evaluation [1/1]\n",
      "INFO:tensorflow:Finished evaluation at 2018-08-31-08:30:53\n",
      "INFO:tensorflow:Saving dict for global step 900: accuracy = 0.5546875, Type of dense = <class 'numpy.ndarray'>, global_step = 900, loss = 2.6192076\n",
      "INFO:tensorflow:Summary for np.ndarray is not visible in Tensorboard by default. Consider using a Tensorboard plugin for visualization (see https://github.com/tensorflow/tensorboard-plugin-example/blob/master/README.md for more information).\n"
     ]
    }
   ],
   "source": [
    "#test data is in 'data/test' folder, batch size = 512\n",
    "test_input_fn = read_img(data_dir='data/test', batch_size=256, shuffle=False)\n",
    "#steps = 1\n",
    "eval_results = cnn_classifier.evaluate(input_fn=test_input_fn, metrics=metrics, steps=1)"
   ]
  },
  {
   "cell_type": "code",
   "execution_count": 11,
   "metadata": {},
   "outputs": [],
   "source": [
    "np.save(os.getcwd() + '/embedding.npy', eval_results['dense'])"
   ]
  },
  {
   "cell_type": "code",
   "execution_count": null,
   "metadata": {},
   "outputs": [],
   "source": []
  }
 ],
 "metadata": {
  "kernelspec": {
   "display_name": "Python 3",
   "language": "python",
   "name": "python3"
  },
  "language_info": {
   "codemirror_mode": {
    "name": "ipython",
    "version": 3
   },
   "file_extension": ".py",
   "mimetype": "text/x-python",
   "name": "python",
   "nbconvert_exporter": "python",
   "pygments_lexer": "ipython3",
   "version": "3.6.6"
  }
 },
 "nbformat": 4,
 "nbformat_minor": 1
}
