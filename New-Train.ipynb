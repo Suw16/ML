{
 "cells": [
  {
   "cell_type": "code",
   "execution_count": 1,
   "metadata": {},
   "outputs": [],
   "source": [
    "import numpy as np\n",
    "import tensorflow as tf\n",
    "from utils import *\n",
    "from tensorflow.contrib import learn\n",
    "from tensorflow.contrib import layers\n",
    "from tensorflow.contrib.learn import *\n",
    "from tensorflow.contrib.learn.python.learn.estimators import model_fn as model_fn_lib\n",
    "\n",
    "tf.logging.set_verbosity(tf.logging.INFO)"
   ]
  },
  {
   "cell_type": "markdown",
   "metadata": {},
   "source": [
    "## Input function for training\n",
    "\n",
    "- Get image data from the given directory \n",
    "- Put the data into TensorFlow Queue\n",
    "- Return (features, label)\n",
    "    - features: a Tensor with shape (batch_size, height, width, channels) \n",
    "    - label: a Tensor with shape (batch_size)"
   ]
  },
  {
   "cell_type": "code",
   "execution_count": 2,
   "metadata": {},
   "outputs": [],
   "source": [
    "train_input_fn = read_img(data_dir='data/train', batch_size=32, shuffle=True)"
   ]
  },
  {
   "cell_type": "code",
   "execution_count": 3,
   "metadata": {},
   "outputs": [
    {
     "data": {
      "text/plain": [
       "(<tf.Tensor 'features:0' shape=(?, 256, 256, 3) dtype=uint8>,\n",
       " <tf.Tensor 'label:0' shape=(?,) dtype=int32>)"
      ]
     },
     "execution_count": 3,
     "metadata": {},
     "output_type": "execute_result"
    }
   ],
   "source": [
    "train_input_fn()"
   ]
  },
  {
   "cell_type": "markdown",
   "metadata": {},
   "source": [
    "### Define CNN model function"
   ]
  },
  {
   "cell_type": "code",
   "execution_count": 4,
   "metadata": {},
   "outputs": [],
   "source": [
    "def cnn_model_fn(features, labels, mode, params):\n",
    "    \"\"\"\n",
    "    Model function for CNN\n",
    "    :param features: images features with shape (batch_size, height, width, channels)\n",
    "    :param labels: images category with shape (batch_size)\n",
    "    :param mode: Specifies if this training, evaluation or\n",
    "                 prediction. See `model_fn_lib.ModeKey`\n",
    "    :param params: dict of hyperparameters\n",
    "    :return: predictions, loss, train_op, Optional(eval_op). See `model_fn_lib.ModelFnOps`\n",
    "    \"\"\"\n",
    "    \n",
    "    # Convolutional Layer #1\n",
    "    conv1 = tf.layers.conv2d(\n",
    "        inputs=features,\n",
    "        filters=32,\n",
    "        kernel_size=[3, 3],\n",
    "        padding=\"same\",\n",
    "        activation=tf.nn.relu)\n",
    "\n",
    "    # Pooling Layer #1\n",
    "    pool1 = tf.layers.max_pooling2d(inputs=conv1, pool_size=[2, 2], strides=2)\n",
    "    \n",
    "    # Convolutional Layer #2 and Pooling Layer #2\n",
    "    conv2 = tf.layers.conv2d(\n",
    "        inputs=pool1,\n",
    "        filters=64,\n",
    "        kernel_size=[3, 3],\n",
    "        padding=\"same\",\n",
    "        activation=tf.nn.relu)\n",
    "    pool2 = tf.layers.max_pooling2d(inputs=conv2, pool_size=[2, 2], strides=2)\n",
    "\n",
    "    # Convolutional Layer #3 and Pooling Layer #3\n",
    "    conv3 = tf.layers.conv2d(\n",
    "        inputs=pool2,\n",
    "        filters=64,\n",
    "        kernel_size=[3, 3],\n",
    "        padding=\"same\",\n",
    "        activation=tf.nn.relu)\n",
    "    pool3 = tf.layers.max_pooling2d(inputs=conv3, pool_size=[2, 2], strides=2)\n",
    "    \n",
    "    # Dense Layer\n",
    "    pool_flat = tf.reshape(pool3, [-1, 32 * 32 * 64])\n",
    "    dense = tf.layers.dense(inputs=pool_flat, units=512, activation=tf.nn.relu)\n",
    "    dropout = tf.layers.dropout(inputs=dense, rate=params['drop_out_rate']\n",
    "                                , training=mode == learn.ModeKeys.TRAIN)\n",
    "    \n",
    "    # Logits Layer, a final layer before applying softmax\n",
    "    logits = tf.layers.dense(inputs=dropout, units=17)\n",
    "    \n",
    "    loss = None\n",
    "    train_op = None\n",
    "    \n",
    "    # Calculate Loss (for both TRAIN and EVAL modes)\n",
    "    if mode != learn.ModeKeys.INFER:\n",
    "        onehot_labels = tf.one_hot(indices=tf.cast(labels, tf.int32), depth=17, name=\"onehot\")\n",
    "        #cross entropy loss\n",
    "        loss = tf.losses.softmax_cross_entropy(\n",
    "            onehot_labels=onehot_labels, logits=logits)\n",
    "        \n",
    "    # Configure the Training Op (for TRAIN mode)\n",
    "    if mode == learn.ModeKeys.TRAIN:\n",
    "        train_op = tf.contrib.layers.optimize_loss(\n",
    "            loss=loss,\n",
    "            global_step=tf.contrib.framework.get_global_step(),\n",
    "            optimizer=tf.train.AdamOptimizer,\n",
    "            learning_rate=params['learning_rate'],\n",
    "            summaries=[\n",
    "                \"learning_rate\",\n",
    "                \"loss\",\n",
    "                \"gradients\",\n",
    "                \"gradient_norm\",\n",
    "            ])\n",
    "    \n",
    "    # Generate Predictions\n",
    "    predictions = {\n",
    "        \"classes\": tf.argmax(\n",
    "            input=logits, axis=1),\n",
    "        \"probabilities\": tf.nn.softmax(\n",
    "            logits, name=\"softmax_tensor\")\n",
    "    }\n",
    "    \n",
    "    # Return a ModelFnOps object\n",
    "    return model_fn_lib.ModelFnOps(mode=mode, \n",
    "                                   predictions=predictions, \n",
    "                                   loss=loss, \n",
    "                                   train_op=train_op,\n",
    "                                   eval_metric_ops={'dense': dense})"
   ]
  },
  {
   "cell_type": "markdown",
   "metadata": {},
   "source": [
    "### Define Data Preprocessing"
   ]
  },
  {
   "cell_type": "code",
   "execution_count": 5,
   "metadata": {},
   "outputs": [],
   "source": [
    "def feature_engineering_fn(features, labels):\n",
    "    \"\"\"\n",
    "    feature_engineering_fn: Feature engineering function. Takes features and\n",
    "                              labels which are the output of `input_fn` and\n",
    "                              returns features and labels which will be fed\n",
    "                              into `model_fn`\n",
    "    \"\"\"\n",
    "    \n",
    "    features = tf.to_float(features)\n",
    "    \n",
    "    # Preprocessing or Data Augmentation\n",
    "    # tf.image implements most of the standard image augmentation\n",
    "\n",
    "    # Example\n",
    "    # Subtract off the mean and divide by the variance of the pixels.\n",
    "    features = tf.map_fn(tf.image.per_image_standardization, features)\n",
    "    \n",
    "    return features, labels"
   ]
  },
  {
   "cell_type": "markdown",
   "metadata": {},
   "source": [
    "### Instantiate an Estimator"
   ]
  },
  {
   "cell_type": "code",
   "execution_count": 6,
   "metadata": {},
   "outputs": [
    {
     "name": "stdout",
     "output_type": "stream",
     "text": [
      "WARNING:tensorflow:From <ipython-input-6-cf9b32d12075>:1: RunConfig.__init__ (from tensorflow.contrib.learn.python.learn.estimators.run_config) is deprecated and will be removed in a future version.\n",
      "Instructions for updating:\n",
      "When switching to tf.estimator.Estimator, use tf.estimator.RunConfig instead.\n",
      "WARNING:tensorflow:From c:\\users\\administrator\\appdata\\local\\programs\\python\\python36\\lib\\site-packages\\tensorflow\\contrib\\learn\\python\\learn\\estimators\\estimator.py:1179: BaseEstimator.__init__ (from tensorflow.contrib.learn.python.learn.estimators.estimator) is deprecated and will be removed in a future version.\n",
      "Instructions for updating:\n",
      "Please replace uses of any Estimator from tf.contrib.learn with an Estimator from tf.estimator.*\n",
      "INFO:tensorflow:Using config: {'_task_type': None, '_task_id': 0, '_cluster_spec': <tensorflow.python.training.server_lib.ClusterSpec object at 0x000002267A883F98>, '_master': '', '_num_ps_replicas': 0, '_num_worker_replicas': 0, '_environment': 'local', '_is_chief': True, '_evaluation_master': '', '_train_distribute': None, '_device_fn': None, '_tf_config': gpu_options {\n",
      "  per_process_gpu_memory_fraction: 1.0\n",
      "}\n",
      ", '_tf_random_seed': None, '_save_summary_steps': 10, '_save_checkpoints_secs': 30, '_log_step_count_steps': 100, '_session_config': None, '_save_checkpoints_steps': None, '_keep_checkpoint_max': 2, '_keep_checkpoint_every_n_hours': 10000, '_model_dir': '_model/plain_cnn'}\n"
     ]
    }
   ],
   "source": [
    "run_config = RunConfig(save_summary_steps=10, keep_checkpoint_max=2, save_checkpoints_secs=30)\n",
    "#drop_out_rate = 0.2, learning_rate = 0.0001\n",
    "params = {'drop_out_rate': 0.2, 'learning_rate': 0.0001}\n",
    "#use \"model/plain_cnn\" as model_dir\n",
    "cnn_classifier = learn.Estimator(model_fn=cnn_model_fn, model_dir=\"_model/plain_cnn\",\n",
    "        config=run_config,\n",
    "        feature_engineering_fn=feature_engineering_fn, params=params)"
   ]
  },
  {
   "cell_type": "code",
   "execution_count": 7,
   "metadata": {},
   "outputs": [
    {
     "name": "stdout",
     "output_type": "stream",
     "text": [
      "WARNING:tensorflow:From <ipython-input-7-153bbe26a921>:5: MetricSpec.__init__ (from tensorflow.contrib.learn.python.learn.metric_spec) is deprecated and will be removed in a future version.\n",
      "Instructions for updating:\n",
      "Use tf.estimator.EstimatorSpec.eval_metric_ops.\n"
     ]
    }
   ],
   "source": [
    "# Configure the accuracy metric for evaluation\n",
    "metrics = {\n",
    "    \"accuracy\":\n",
    "        learn.MetricSpec(\n",
    "            metric_fn=tf.metrics.accuracy, prediction_key=\"classes\")\n",
    "}"
   ]
  },
  {
   "cell_type": "markdown",
   "metadata": {},
   "source": [
    "### Define input function for validation monitor and Instantiate a Validation Monitor"
   ]
  },
  {
   "cell_type": "code",
   "execution_count": 8,
   "metadata": {},
   "outputs": [
    {
     "name": "stdout",
     "output_type": "stream",
     "text": [
      "WARNING:tensorflow:From c:\\users\\administrator\\appdata\\local\\programs\\python\\python36\\lib\\site-packages\\tensorflow\\contrib\\learn\\python\\learn\\monitors.py:279: BaseMonitor.__init__ (from tensorflow.contrib.learn.python.learn.monitors) is deprecated and will be removed after 2016-12-05.\n",
      "Instructions for updating:\n",
      "Monitors are deprecated. Please use tf.train.SessionRunHook.\n"
     ]
    }
   ],
   "source": [
    "#validation data is in 'data/validate' folder, batch size = 128\n",
    "validate_input_fn = read_img(data_dir='data/validate', batch_size=128, shuffle=True)\n",
    "validation_monitor = monitors.ValidationMonitor(input_fn=validate_input_fn,\n",
    "                                                eval_steps=10,\n",
    "                                                every_n_steps=50,\n",
    "                                                metrics=metrics,\n",
    "                                                name='validation')"
   ]
  },
  {
   "cell_type": "markdown",
   "metadata": {},
   "source": [
    "### Start training the model"
   ]
  },
  {
   "cell_type": "code",
   "execution_count": 9,
   "metadata": {
    "scrolled": false
   },
   "outputs": [
    {
     "name": "stdout",
     "output_type": "stream",
     "text": [
      "WARNING:tensorflow:From <ipython-input-4-0413adfaae90>:64: get_global_step (from tensorflow.contrib.framework.python.ops.variables) is deprecated and will be removed in a future version.\n",
      "Instructions for updating:\n",
      "Please switch to tf.train.get_global_step\n",
      "WARNING:tensorflow:From <ipython-input-4-0413adfaae90>:87: ModelFnOps.__new__ (from tensorflow.contrib.learn.python.learn.estimators.model_fn) is deprecated and will be removed in a future version.\n",
      "Instructions for updating:\n",
      "When switching to tf.estimator.Estimator, use tf.estimator.EstimatorSpec. You can use the `estimator_spec` method to create an equivalent one.\n",
      "INFO:tensorflow:Create CheckpointSaverHook.\n",
      "INFO:tensorflow:Graph was finalized.\n",
      "INFO:tensorflow:Restoring parameters from _model/plain_cnn\\model.ckpt-610\n",
      "INFO:tensorflow:Running local_init_op.\n",
      "INFO:tensorflow:Done running local_init_op.\n",
      "INFO:tensorflow:Saving checkpoints for 610 into _model/plain_cnn\\model.ckpt.\n",
      "INFO:tensorflow:Starting evaluation at 2018-08-29-10:46:11\n",
      "INFO:tensorflow:Graph was finalized.\n",
      "INFO:tensorflow:Restoring parameters from _model/plain_cnn\\model.ckpt-610\n",
      "INFO:tensorflow:Running local_init_op.\n",
      "INFO:tensorflow:Done running local_init_op.\n",
      "INFO:tensorflow:Evaluation [1/10]\n",
      "INFO:tensorflow:Evaluation [2/10]\n",
      "INFO:tensorflow:Evaluation [3/10]\n",
      "INFO:tensorflow:Evaluation [4/10]\n",
      "INFO:tensorflow:Evaluation [5/10]\n",
      "INFO:tensorflow:Evaluation [6/10]\n",
      "INFO:tensorflow:Evaluation [7/10]\n",
      "INFO:tensorflow:Evaluation [8/10]\n",
      "INFO:tensorflow:Evaluation [9/10]\n",
      "INFO:tensorflow:Evaluation [10/10]\n",
      "INFO:tensorflow:Finished evaluation at 2018-08-29-10:47:06\n",
      "INFO:tensorflow:Saving dict for global step 610: accuracy = 0.32265624, Type of dense = <class 'numpy.ndarray'>, global_step = 610, loss = 9.868588\n",
      "INFO:tensorflow:Summary for np.ndarray is not visible in Tensorboard by default. Consider using a Tensorboard plugin for visualization (see https://github.com/tensorflow/tensorboard-plugin-example/blob/master/README.md for more information).\n",
      "INFO:tensorflow:Validation (step 611): dense = [[0. 0. 0. ... 0. 0. 0.]\n",
      " [0. 0. 0. ... 0. 0. 0.]\n",
      " [0. 0. 0. ... 0. 0. 0.]\n",
      " ...\n",
      " [0. 0. 0. ... 0. 0. 0.]\n",
      " [0. 0. 0. ... 0. 0. 0.]\n",
      " [0. 0. 0. ... 0. 0. 0.]], accuracy = 0.32265624, loss = 9.868588, global_step = 610\n",
      "INFO:tensorflow:loss = 8.638142, step = 611\n",
      "INFO:tensorflow:Saving checkpoints for 612 into _model/plain_cnn\\model.ckpt.\n",
      "INFO:tensorflow:Saving checkpoints for 620 into _model/plain_cnn\\model.ckpt.\n",
      "INFO:tensorflow:Saving checkpoints for 627 into _model/plain_cnn\\model.ckpt.\n",
      "INFO:tensorflow:Saving checkpoints for 634 into _model/plain_cnn\\model.ckpt.\n",
      "INFO:tensorflow:Saving checkpoints for 641 into _model/plain_cnn\\model.ckpt.\n",
      "INFO:tensorflow:Saving checkpoints for 649 into _model/plain_cnn\\model.ckpt.\n",
      "INFO:tensorflow:Saving checkpoints for 657 into _model/plain_cnn\\model.ckpt.\n",
      "INFO:tensorflow:Starting evaluation at 2018-08-29-10:50:37\n",
      "INFO:tensorflow:Graph was finalized.\n",
      "INFO:tensorflow:Restoring parameters from _model/plain_cnn\\model.ckpt-657\n",
      "INFO:tensorflow:Running local_init_op.\n",
      "INFO:tensorflow:Done running local_init_op.\n",
      "INFO:tensorflow:Evaluation [1/10]\n",
      "INFO:tensorflow:Evaluation [2/10]\n",
      "INFO:tensorflow:Evaluation [3/10]\n",
      "INFO:tensorflow:Evaluation [4/10]\n",
      "INFO:tensorflow:Evaluation [5/10]\n",
      "INFO:tensorflow:Evaluation [6/10]\n",
      "INFO:tensorflow:Evaluation [7/10]\n",
      "INFO:tensorflow:Evaluation [8/10]\n",
      "INFO:tensorflow:Evaluation [9/10]\n",
      "INFO:tensorflow:Evaluation [10/10]\n",
      "INFO:tensorflow:Finished evaluation at 2018-08-29-10:51:41\n",
      "INFO:tensorflow:Saving dict for global step 657: accuracy = 0.36796874, Type of dense = <class 'numpy.ndarray'>, global_step = 657, loss = 22.557339\n",
      "INFO:tensorflow:Summary for np.ndarray is not visible in Tensorboard by default. Consider using a Tensorboard plugin for visualization (see https://github.com/tensorflow/tensorboard-plugin-example/blob/master/README.md for more information).\n",
      "INFO:tensorflow:Validation (step 661): dense = [[0. 0. 0. ... 0. 0. 0.]\n",
      " [0. 0. 0. ... 0. 0. 0.]\n",
      " [0. 0. 0. ... 0. 0. 0.]\n",
      " ...\n",
      " [0. 0. 0. ... 0. 0. 0.]\n",
      " [0. 0. 0. ... 0. 0. 0.]\n",
      " [0. 0. 0. ... 0. 0. 0.]], accuracy = 0.36796874, loss = 22.557339, global_step = 657\n",
      "INFO:tensorflow:Saving checkpoints for 662 into _model/plain_cnn\\model.ckpt.\n",
      "INFO:tensorflow:Saving checkpoints for 670 into _model/plain_cnn\\model.ckpt.\n",
      "INFO:tensorflow:Saving checkpoints for 678 into _model/plain_cnn\\model.ckpt.\n",
      "INFO:tensorflow:Saving checkpoints for 686 into _model/plain_cnn\\model.ckpt.\n",
      "INFO:tensorflow:Saving checkpoints for 694 into _model/plain_cnn\\model.ckpt.\n",
      "INFO:tensorflow:Saving checkpoints for 702 into _model/plain_cnn\\model.ckpt.\n",
      "INFO:tensorflow:Saving checkpoints for 711 into _model/plain_cnn\\model.ckpt.\n",
      "INFO:tensorflow:global_step/sec: 0.191109\n",
      "INFO:tensorflow:Starting evaluation at 2018-08-29-10:54:54\n",
      "INFO:tensorflow:Graph was finalized.\n",
      "INFO:tensorflow:Restoring parameters from _model/plain_cnn\\model.ckpt-711\n",
      "INFO:tensorflow:Running local_init_op.\n",
      "INFO:tensorflow:Done running local_init_op.\n",
      "INFO:tensorflow:Evaluation [1/10]\n",
      "INFO:tensorflow:Evaluation [2/10]\n",
      "INFO:tensorflow:Evaluation [3/10]\n",
      "INFO:tensorflow:Evaluation [4/10]\n",
      "INFO:tensorflow:Evaluation [5/10]\n",
      "INFO:tensorflow:Evaluation [6/10]\n",
      "INFO:tensorflow:Evaluation [7/10]\n",
      "INFO:tensorflow:Evaluation [8/10]\n",
      "INFO:tensorflow:Evaluation [9/10]\n",
      "INFO:tensorflow:Evaluation [10/10]\n",
      "INFO:tensorflow:Finished evaluation at 2018-08-29-10:55:55\n",
      "INFO:tensorflow:Saving dict for global step 711: accuracy = 0.2609375, Type of dense = <class 'numpy.ndarray'>, global_step = 711, loss = 121.67523\n",
      "INFO:tensorflow:Summary for np.ndarray is not visible in Tensorboard by default. Consider using a Tensorboard plugin for visualization (see https://github.com/tensorflow/tensorboard-plugin-example/blob/master/README.md for more information).\n",
      "INFO:tensorflow:Validation (step 711): dense = [[0. 0. 0. ... 0. 0. 0.]\n",
      " [0. 0. 0. ... 0. 0. 0.]\n",
      " [0. 0. 0. ... 0. 0. 0.]\n",
      " ...\n",
      " [0. 0. 0. ... 0. 0. 0.]\n",
      " [0. 0. 0. ... 0. 0. 0.]\n",
      " [0. 0. 0. ... 0. 0. 0.]], accuracy = 0.2609375, loss = 121.67523, global_step = 711\n",
      "INFO:tensorflow:loss = 132.64735, step = 711 (528.271 sec)\n",
      "INFO:tensorflow:Saving checkpoints for 712 into _model/plain_cnn\\model.ckpt.\n",
      "INFO:tensorflow:Saving checkpoints for 720 into _model/plain_cnn\\model.ckpt.\n",
      "INFO:tensorflow:Saving checkpoints for 728 into _model/plain_cnn\\model.ckpt.\n",
      "INFO:tensorflow:Saving checkpoints for 736 into _model/plain_cnn\\model.ckpt.\n",
      "INFO:tensorflow:Saving checkpoints for 744 into _model/plain_cnn\\model.ckpt.\n",
      "INFO:tensorflow:Saving checkpoints for 752 into _model/plain_cnn\\model.ckpt.\n",
      "INFO:tensorflow:Saving checkpoints for 761 into _model/plain_cnn\\model.ckpt.\n",
      "INFO:tensorflow:Starting evaluation at 2018-08-29-10:59:08\n",
      "INFO:tensorflow:Graph was finalized.\n",
      "INFO:tensorflow:Restoring parameters from _model/plain_cnn\\model.ckpt-761\n",
      "INFO:tensorflow:Running local_init_op.\n",
      "INFO:tensorflow:Done running local_init_op.\n",
      "INFO:tensorflow:Evaluation [1/10]\n",
      "INFO:tensorflow:Evaluation [2/10]\n",
      "INFO:tensorflow:Evaluation [3/10]\n",
      "INFO:tensorflow:Evaluation [4/10]\n",
      "INFO:tensorflow:Evaluation [5/10]\n",
      "INFO:tensorflow:Evaluation [6/10]\n",
      "INFO:tensorflow:Evaluation [7/10]\n",
      "INFO:tensorflow:Evaluation [8/10]\n",
      "INFO:tensorflow:Evaluation [9/10]\n",
      "INFO:tensorflow:Evaluation [10/10]\n",
      "INFO:tensorflow:Finished evaluation at 2018-08-29-11:00:10\n",
      "INFO:tensorflow:Saving dict for global step 761: accuracy = 0.26015624, Type of dense = <class 'numpy.ndarray'>, global_step = 761, loss = 480.1731\n",
      "INFO:tensorflow:Summary for np.ndarray is not visible in Tensorboard by default. Consider using a Tensorboard plugin for visualization (see https://github.com/tensorflow/tensorboard-plugin-example/blob/master/README.md for more information).\n",
      "INFO:tensorflow:Validation (step 761): dense = [[0. 0. 0. ... 0. 0. 0.]\n",
      " [0. 0. 0. ... 0. 0. 0.]\n",
      " [0. 0. 0. ... 0. 0. 0.]\n",
      " ...\n",
      " [0. 0. 0. ... 0. 0. 0.]\n",
      " [0. 0. 0. ... 0. 0. 0.]\n",
      " [0. 0. 0. ... 0. 0. 0.]], accuracy = 0.26015624, loss = 480.1731, global_step = 761\n",
      "INFO:tensorflow:Saving checkpoints for 762 into _model/plain_cnn\\model.ckpt.\n",
      "INFO:tensorflow:Saving checkpoints for 770 into _model/plain_cnn\\model.ckpt.\n",
      "INFO:tensorflow:Saving checkpoints for 778 into _model/plain_cnn\\model.ckpt.\n",
      "INFO:tensorflow:Saving checkpoints for 786 into _model/plain_cnn\\model.ckpt.\n"
     ]
    },
    {
     "name": "stdout",
     "output_type": "stream",
     "text": [
      "INFO:tensorflow:Saving checkpoints for 794 into _model/plain_cnn\\model.ckpt.\n",
      "INFO:tensorflow:Saving checkpoints for 802 into _model/plain_cnn\\model.ckpt.\n",
      "INFO:tensorflow:Saving checkpoints for 811 into _model/plain_cnn\\model.ckpt.\n",
      "INFO:tensorflow:global_step/sec: 0.197071\n",
      "INFO:tensorflow:Starting evaluation at 2018-08-29-11:03:21\n",
      "INFO:tensorflow:Graph was finalized.\n",
      "INFO:tensorflow:Restoring parameters from _model/plain_cnn\\model.ckpt-811\n",
      "INFO:tensorflow:Running local_init_op.\n",
      "INFO:tensorflow:Done running local_init_op.\n",
      "INFO:tensorflow:Evaluation [1/10]\n",
      "INFO:tensorflow:Evaluation [2/10]\n",
      "INFO:tensorflow:Evaluation [3/10]\n",
      "INFO:tensorflow:Evaluation [4/10]\n",
      "INFO:tensorflow:Evaluation [5/10]\n",
      "INFO:tensorflow:Evaluation [6/10]\n",
      "INFO:tensorflow:Evaluation [7/10]\n",
      "INFO:tensorflow:Evaluation [8/10]\n",
      "INFO:tensorflow:Evaluation [9/10]\n",
      "INFO:tensorflow:Evaluation [10/10]\n",
      "INFO:tensorflow:Finished evaluation at 2018-08-29-11:04:22\n",
      "INFO:tensorflow:Saving dict for global step 811: accuracy = 0.15625, Type of dense = <class 'numpy.ndarray'>, global_step = 811, loss = 1608.3727\n",
      "INFO:tensorflow:Summary for np.ndarray is not visible in Tensorboard by default. Consider using a Tensorboard plugin for visualization (see https://github.com/tensorflow/tensorboard-plugin-example/blob/master/README.md for more information).\n",
      "INFO:tensorflow:Validation (step 811): dense = [[0. 0. 0. ... 0. 0. 0.]\n",
      " [0. 0. 0. ... 0. 0. 0.]\n",
      " [0. 0. 0. ... 0. 0. 0.]\n",
      " ...\n",
      " [0. 0. 0. ... 0. 0. 0.]\n",
      " [0. 0. 0. ... 0. 0. 0.]\n",
      " [0. 0. 0. ... 0. 0. 0.]], accuracy = 0.15625, loss = 1608.3727, global_step = 811\n",
      "INFO:tensorflow:loss = 2834.9219, step = 811 (507.190 sec)\n",
      "INFO:tensorflow:Saving checkpoints for 812 into _model/plain_cnn\\model.ckpt.\n",
      "INFO:tensorflow:Saving checkpoints for 821 into _model/plain_cnn\\model.ckpt.\n",
      "INFO:tensorflow:Saving checkpoints for 830 into _model/plain_cnn\\model.ckpt.\n",
      "INFO:tensorflow:Saving checkpoints for 838 into _model/plain_cnn\\model.ckpt.\n",
      "INFO:tensorflow:Saving checkpoints for 847 into _model/plain_cnn\\model.ckpt.\n",
      "INFO:tensorflow:Saving checkpoints for 856 into _model/plain_cnn\\model.ckpt.\n",
      "INFO:tensorflow:Starting evaluation at 2018-08-29-11:07:29\n",
      "INFO:tensorflow:Graph was finalized.\n",
      "INFO:tensorflow:Restoring parameters from _model/plain_cnn\\model.ckpt-856\n",
      "INFO:tensorflow:Running local_init_op.\n",
      "INFO:tensorflow:Done running local_init_op.\n",
      "INFO:tensorflow:Evaluation [1/10]\n",
      "INFO:tensorflow:Evaluation [2/10]\n",
      "INFO:tensorflow:Evaluation [3/10]\n",
      "INFO:tensorflow:Evaluation [4/10]\n",
      "INFO:tensorflow:Evaluation [5/10]\n",
      "INFO:tensorflow:Evaluation [6/10]\n",
      "INFO:tensorflow:Evaluation [7/10]\n",
      "INFO:tensorflow:Evaluation [8/10]\n",
      "INFO:tensorflow:Evaluation [9/10]\n",
      "INFO:tensorflow:Evaluation [10/10]\n",
      "INFO:tensorflow:Finished evaluation at 2018-08-29-11:08:30\n",
      "INFO:tensorflow:Saving dict for global step 856: accuracy = 0.18125, Type of dense = <class 'numpy.ndarray'>, global_step = 856, loss = 4082.9277\n",
      "INFO:tensorflow:Summary for np.ndarray is not visible in Tensorboard by default. Consider using a Tensorboard plugin for visualization (see https://github.com/tensorflow/tensorboard-plugin-example/blob/master/README.md for more information).\n",
      "INFO:tensorflow:Validation (step 861): dense = [[0. 0. 0. ... 0. 0. 0.]\n",
      " [0. 0. 0. ... 0. 0. 0.]\n",
      " [0. 0. 0. ... 0. 0. 0.]\n",
      " ...\n",
      " [0. 0. 0. ... 0. 0. 0.]\n",
      " [0. 0. 0. ... 0. 0. 0.]\n",
      " [0. 0. 0. ... 0. 0. 0.]], accuracy = 0.18125, loss = 4082.9277, global_step = 856\n",
      "INFO:tensorflow:Saving checkpoints for 862 into _model/plain_cnn\\model.ckpt.\n",
      "INFO:tensorflow:Saving checkpoints for 870 into _model/plain_cnn\\model.ckpt.\n",
      "INFO:tensorflow:Saving checkpoints for 879 into _model/plain_cnn\\model.ckpt.\n",
      "INFO:tensorflow:Saving checkpoints for 888 into _model/plain_cnn\\model.ckpt.\n",
      "INFO:tensorflow:Saving checkpoints for 897 into _model/plain_cnn\\model.ckpt.\n",
      "INFO:tensorflow:Saving checkpoints for 906 into _model/plain_cnn\\model.ckpt.\n",
      "INFO:tensorflow:Saving checkpoints for 910 into _model/plain_cnn\\model.ckpt.\n",
      "INFO:tensorflow:Loss for final step: 54514.695.\n"
     ]
    },
    {
     "data": {
      "text/plain": [
       "Estimator(params={'drop_out_rate': 0.2, 'learning_rate': 0.0001})"
      ]
     },
     "execution_count": 9,
     "metadata": {},
     "output_type": "execute_result"
    }
   ],
   "source": [
    "#use validation monitor defined above to evaluate model every 50 steps\n",
    "cnn_classifier.fit(input_fn=train_input_fn, steps=300, monitors=[validation_monitor])"
   ]
  },
  {
   "cell_type": "markdown",
   "metadata": {},
   "source": [
    "### Final evaluation on unseen test data set"
   ]
  },
  {
   "cell_type": "code",
   "execution_count": 10,
   "metadata": {
    "scrolled": false
   },
   "outputs": [
    {
     "name": "stdout",
     "output_type": "stream",
     "text": [
      "INFO:tensorflow:Starting evaluation at 2018-08-29-11:14:36\n",
      "INFO:tensorflow:Graph was finalized.\n",
      "INFO:tensorflow:Restoring parameters from _model/plain_cnn\\model.ckpt-910\n",
      "INFO:tensorflow:Running local_init_op.\n",
      "INFO:tensorflow:Done running local_init_op.\n",
      "INFO:tensorflow:Evaluation [1/1]\n",
      "INFO:tensorflow:Finished evaluation at 2018-08-29-11:15:05\n",
      "INFO:tensorflow:Saving dict for global step 910: accuracy = 0.17578125, Type of dense = <class 'numpy.ndarray'>, global_step = 910, loss = 11023.611\n",
      "INFO:tensorflow:Summary for np.ndarray is not visible in Tensorboard by default. Consider using a Tensorboard plugin for visualization (see https://github.com/tensorflow/tensorboard-plugin-example/blob/master/README.md for more information).\n"
     ]
    }
   ],
   "source": [
    "#test data is in 'data/test' folder, batch size = 512\n",
    "test_input_fn = read_img(data_dir='data/test', batch_size=256, shuffle=False)\n",
    "#steps = 1\n",
    "eval_results = cnn_classifier.evaluate(input_fn=test_input_fn, metrics=metrics, steps=1)"
   ]
  },
  {
   "cell_type": "code",
   "execution_count": 11,
   "metadata": {},
   "outputs": [],
   "source": [
    "np.save(os.getcwd() + '/embedding.npy', eval_results['dense'])"
   ]
  },
  {
   "cell_type": "code",
   "execution_count": null,
   "metadata": {},
   "outputs": [],
   "source": []
  }
 ],
 "metadata": {
  "kernelspec": {
   "display_name": "Python 3",
   "language": "python",
   "name": "python3"
  },
  "language_info": {
   "codemirror_mode": {
    "name": "ipython",
    "version": 3
   },
   "file_extension": ".py",
   "mimetype": "text/x-python",
   "name": "python",
   "nbconvert_exporter": "python",
   "pygments_lexer": "ipython3",
   "version": "3.6.6"
  }
 },
 "nbformat": 4,
 "nbformat_minor": 1
}
